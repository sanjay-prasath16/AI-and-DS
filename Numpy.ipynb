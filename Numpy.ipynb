{
 "cells": [
  {
   "cell_type": "code",
   "execution_count": 23,
   "id": "45048465-7a4f-45ce-aada-277355565c98",
   "metadata": {},
   "outputs": [],
   "source": [
    "import numpy as np"
   ]
  },
  {
   "cell_type": "code",
   "execution_count": 25,
   "id": "dadc1b49-32f8-4ab3-b846-2476b4c02f6f",
   "metadata": {},
   "outputs": [
    {
     "name": "stdout",
     "output_type": "stream",
     "text": [
      "[1 2 3 4 5] <class 'numpy.ndarray'> 2 [2 3 4 5] [1 2 3]\n"
     ]
    }
   ],
   "source": [
    "# single dimension\n",
    "a = np.array([1,2,3,4,5])\n",
    "print(a, type(a), a[1], a[1:], a[:-2])"
   ]
  },
  {
   "cell_type": "code",
   "execution_count": 27,
   "id": "2954e938-e0a2-49c1-b98d-12b0d177dc06",
   "metadata": {},
   "outputs": [
    {
     "name": "stdout",
     "output_type": "stream",
     "text": [
      "[[1 2 3]\n",
      " [4 5 6]\n",
      " [7 8 9]] [1 2 3] 2 (3, 3)\n"
     ]
    }
   ],
   "source": [
    "# multi dimension arrays\n",
    "a_mul = np.array([[1,2,3], [4,5,6], [7,8,9]])\n",
    "print(a_mul, a_mul[0], a_mul[0, 1], a_mul.shape)"
   ]
  },
  {
   "cell_type": "code",
   "execution_count": 61,
   "id": "db6c6878-c45d-4afe-b925-7e4380e49998",
   "metadata": {},
   "outputs": [
    {
     "name": "stdout",
     "output_type": "stream",
     "text": [
      "int32\n",
      "<U11 <U1\n",
      "int32 int32\n",
      "object <class 'int'>\n"
     ]
    }
   ],
   "source": [
    "# data types\n",
    "a = np.array([[1,2,3], [4,5,6], [7,8,9]])\n",
    "print(a.dtype)\n",
    "\n",
    "b = np.array([[1,2,3], [4,\"Hello\",6], [7,8,9]])\n",
    "print(b.dtype, b[0][0].dtype)\n",
    "\n",
    "c = np.array([[1,2,3], [4,\"5\",6], [7,8,9]], dtype=np.int32)\n",
    "print(c.dtype, c[1][1].dtype)\n",
    "\n",
    "d = { 1 : \"A\" }\n",
    "e = np.array([[1,2,3], [4,d,6], [7,8,9]])\n",
    "print(e.dtype, type(e[0][0]))"
   ]
  },
  {
   "cell_type": "code",
   "execution_count": 83,
   "id": "7071bf87-3e26-47c3-97a4-8744e69b84d3",
   "metadata": {},
   "outputs": [
    {
     "name": "stdout",
     "output_type": "stream",
     "text": [
      "[[[9 9 9 9]\n",
      "  [9 9 9 9]\n",
      "  [9 9 9 9]]\n",
      "\n",
      " [[9 9 9 9]\n",
      "  [9 9 9 9]\n",
      "  [9 9 9 9]]]\n",
      "\n",
      "[[0. 0. 0.]\n",
      " [0. 0. 0.]]\n",
      "\n",
      "[[1. 1. 1.]\n",
      " [1. 1. 1.]]\n",
      "\n",
      "[[1. 1. 1.]\n",
      " [1. 1. 1.]]\n",
      "\n",
      "[0 1 2 3 4 5 6 7 8 9]\n",
      "\n",
      "[ 0.  5. 10.]\n"
     ]
    }
   ],
   "source": [
    "# Filling Arrays\n",
    "a = np.full((2,3,4), 9)\n",
    "print(a)\n",
    "print()\n",
    "\n",
    "b = np.zeros((2,3))\n",
    "print(b)\n",
    "print()\n",
    "\n",
    "c = np.ones((2,3))\n",
    "print(c)\n",
    "print()\n",
    "\n",
    "d = np.empty((2,3))\n",
    "print(d)\n",
    "print()\n",
    "\n",
    "# printing some sequence of number - arange(start, stop, step)\n",
    "x_values = np.arange(0, 10, 1)\n",
    "print(x_values)\n",
    "print()\n",
    "\n",
    "# printing sequence of numbers by splitting equally based on the num we give - linspace(start, space, count)\n",
    "y_values = np.linspace(0, 10, 3)\n",
    "print(y_values)"
   ]
  },
  {
   "cell_type": "code",
   "execution_count": 85,
   "id": "0ca4e06f-7252-440c-986d-065b6347372e",
   "metadata": {},
   "outputs": [
    {
     "name": "stdout",
     "output_type": "stream",
     "text": [
      "nan inf\n"
     ]
    }
   ],
   "source": [
    "# other properties\n",
    "\n",
    "print(np.nan, np.inf)"
   ]
  },
  {
   "cell_type": "code",
   "execution_count": 89,
   "id": "174139e7-1a2f-43e7-b88f-406a8a741f2b",
   "metadata": {},
   "outputs": [
    {
     "name": "stdout",
     "output_type": "stream",
     "text": [
      "[ 5 10 15 20 25]\n",
      "[1, 2, 3, 4, 5, 1, 2, 3, 4, 5, 1, 2, 3, 4, 5, 1, 2, 3, 4, 5, 1, 2, 3, 4, 5]\n",
      "[1.         1.41421356 1.73205081 2.         2.23606798]\n"
     ]
    }
   ],
   "source": [
    "# mathematical operations\n",
    "\n",
    "l1 = [1,2,3,4,5]\n",
    "l2 = [6,7,8,9,0]\n",
    "\n",
    "a1 = np.array(l1)\n",
    "a2 = np.array(l2)\n",
    "\n",
    "print(a1 * 5)\n",
    "print(l1 * 5)\n",
    "\n",
    "print(np.sqrt(a1))"
   ]
  },
  {
   "cell_type": "code",
   "execution_count": 102,
   "id": "124ab9ea-157d-4350-8910-cac73f0d9bb6",
   "metadata": {},
   "outputs": [
    {
     "name": "stdout",
     "output_type": "stream",
     "text": [
      "[1 2 3 4 5 6] [1 2 3]\n",
      "\n",
      "[1 2 3 4 5 6 7 8 9]\n",
      "[1 2 3 4 5 6 7 8]\n"
     ]
    }
   ],
   "source": [
    "# Array Methods\n",
    "\n",
    "a = np.array([1,2,3])\n",
    "print(np.append(a, [4,5,6]), a)\n",
    "print()\n",
    "a = np.append(a, [4,5,6])\n",
    "\n",
    "a = np.insert(a, 6, [7,8,9])\n",
    "print(a)\n",
    "\n",
    "print(np.delete(a, 8))"
   ]
  },
  {
   "cell_type": "code",
   "execution_count": 126,
   "id": "b80586a4-f215-49f7-a2d6-28da1fed7f67",
   "metadata": {},
   "outputs": [
    {
     "name": "stdout",
     "output_type": "stream",
     "text": [
      "[[ 1  2  3  4  5  6]\n",
      " [ 7  8  9 10 11 12]]\n",
      "\n",
      "[[ 1  2  3  4]\n",
      " [ 5  6  7  8]\n",
      " [ 9 10 11 12]]\n",
      "\n",
      "[[ 1  2  3  4  5  6]\n",
      " [ 7  8  9 10 11 12]]\n",
      "\n",
      "[ 1  2 20  4  5  6  7  8  9 10 11 12]\n",
      "\n",
      "[[ 1  2  3  4  5  6]\n",
      " [ 7  8  9 10 11 12]]\n",
      "\n",
      "[ 1  2 20  4  5  6  7  8  9 10 11 12]\n",
      "\n",
      "[[ 1  2 20  4  5  6]\n",
      " [ 7  8  9 10 11 12]]\n",
      "\n",
      "[[ 1  7]\n",
      " [ 2  8]\n",
      " [20  9]\n",
      " [ 4 10]\n",
      " [ 5 11]\n",
      " [ 6 12]]\n",
      "\n",
      "[[ 1  7]\n",
      " [ 2  8]\n",
      " [20  9]\n",
      " [ 4 10]\n",
      " [ 5 11]\n",
      " [ 6 12]]\n",
      "\n",
      "[[ 1  7]\n",
      " [ 2  8]\n",
      " [20  9]\n",
      " [ 4 10]\n",
      " [ 5 11]\n",
      " [ 6 12]]\n"
     ]
    }
   ],
   "source": [
    "# structuring methods\n",
    "a = np.array([[1,2,3,4],\n",
    "              [5,6,7,8],\n",
    "              [9,10,11,12]])\n",
    "print(a.reshape(2,6))\n",
    "print()\n",
    "print(a)\n",
    "print()\n",
    "\n",
    "a.resize((2,6))\n",
    "print(a)\n",
    "print()\n",
    "\n",
    "# Flatten - To get the one dimensional array as output, returns the copy of the array\n",
    "var1 = a.flatten()\n",
    "var1[2] = 20\n",
    "print(var1)\n",
    "print()\n",
    "print(a)\n",
    "print()\n",
    "\n",
    "# Ravel - Same like the flatten method but while returning it will give original array at that instance of time\n",
    "var2 = a.ravel()\n",
    "var2[2] = 20\n",
    "print(var2)\n",
    "print()\n",
    "print(a)\n",
    "print()\n",
    "\n",
    "# To swap axis\n",
    "print(a.transpose())\n",
    "print()\n",
    "print(a.T)\n",
    "print()\n",
    "print(a.swapaxes(0,1))"
   ]
  },
  {
   "cell_type": "code",
   "execution_count": 188,
   "id": "e90ea69f-87bd-4ad0-8c09-a358ac51603b",
   "metadata": {},
   "outputs": [
    {
     "name": "stdout",
     "output_type": "stream",
     "text": [
      "[[ 1  2  3  4  5]\n",
      " [ 6  7  8  9 10]\n",
      " [11 12 13 14 15]\n",
      " [16 17 18 19 20]]\n",
      "\n",
      "[[ 1  2  3  4  5 11 12 13 14 15]\n",
      " [ 6  7  8  9 10 16 17 18 19 20]]\n",
      "\n",
      "[array([[1, 2, 3],\n",
      "       [4, 5, 6]]), array([[ 7,  8,  9],\n",
      "       [10, 11, 12]])]\n",
      "\n",
      "[array([[ 1,  2,  3],\n",
      "       [ 7,  8,  9],\n",
      "       [13, 14, 15],\n",
      "       [19, 20, 21]]), array([[ 4,  5,  6],\n",
      "       [10, 11, 12],\n",
      "       [16, 17, 18],\n",
      "       [22, 23, 24]])]\n"
     ]
    }
   ],
   "source": [
    "# concatinating, splitting, stacking\n",
    "a = np.array([[1,2,3,4,5],\n",
    "              [6,7,8,9,10]])\n",
    "b = np.array([[11,12,13,14,15],\n",
    "             [16,17,18,19,20]])\n",
    "print(np.concatenate((a,b), axis=0))\n",
    "print()\n",
    "print(np.concatenate((a,b), axis=1))\n",
    "print()\n",
    "\n",
    "c = np.array([[1,2,3],\n",
    "               [4,5,6],\n",
    "               [7,8,9],\n",
    "               [10,11,12]])\n",
    "print(np.split(c, 2, axis=0))\n",
    "print()\n",
    "\n",
    "d = np.array([[1,2,3,4,5,6],\n",
    "              [7,8,9,10,11,12],\n",
    "              [13,14,15,16,17,18],\n",
    "              [19,20,21,22,23,24]])\n",
    "print(np.split(d, 2, axis=1))\n",
    "\n",
    "# stack is used for creating a outer list over a predefined list\n",
    "# vstack act as same like the concatenate axis=0 concept\n",
    "# hstack act as same like the concatenate axis=1 concept"
   ]
  },
  {
   "cell_type": "code",
   "execution_count": 192,
   "id": "804f002a-2811-4a90-9647-42a153f07d74",
   "metadata": {},
   "outputs": [
    {
     "name": "stdout",
     "output_type": "stream",
     "text": [
      "1\n",
      "24\n",
      "6.922186552431729\n",
      "300\n",
      "12.5\n"
     ]
    }
   ],
   "source": [
    "# aggregate functions\n",
    "a = np.array([[1,2,3,4,5,6],\n",
    "              [7,8,9,10,11,12],\n",
    "              [13,14,15,16,17,18],\n",
    "              [19,20,21,22,23,24]])\n",
    "print(a.min())\n",
    "print(a.max())\n",
    "print(a.std())\n",
    "print(a.sum())\n",
    "print(np.median(a))"
   ]
  },
  {
   "cell_type": "code",
   "execution_count": 205,
   "id": "3a2fec66-ebc9-4ed9-bf2b-42692dff1713",
   "metadata": {},
   "outputs": [
    {
     "name": "stdout",
     "output_type": "stream",
     "text": [
      "90\n",
      "\n",
      "[[6 2 7]\n",
      " [0 8 6]]\n",
      "\n",
      "[[90 91 97]\n",
      " [95 98 92]]\n",
      "\n",
      "30\n"
     ]
    }
   ],
   "source": [
    "# Numpy Random\n",
    "print(np.random.randint(100))\n",
    "print()\n",
    "print(np.random.randint(10, size=(2,3)))\n",
    "print()\n",
    "print(np.random.randint(90, 100, size=(2,3)))\n",
    "print()\n",
    "print(np.random.choice([10,20,30,40,50]))"
   ]
  }
 ],
 "metadata": {
  "kernelspec": {
   "display_name": "Python [conda env:base] *",
   "language": "python",
   "name": "conda-base-py"
  },
  "language_info": {
   "codemirror_mode": {
    "name": "ipython",
    "version": 3
   },
   "file_extension": ".py",
   "mimetype": "text/x-python",
   "name": "python",
   "nbconvert_exporter": "python",
   "pygments_lexer": "ipython3",
   "version": "3.12.7"
  }
 },
 "nbformat": 4,
 "nbformat_minor": 5
}
